{
 "cells": [
  {
   "cell_type": "code",
   "execution_count": null,
   "id": "670cb98c",
   "metadata": {},
   "outputs": [],
   "source": [
    "# Directory structure being created in a flat representation:#\n",
    "# \n",
    "# depdetect/\n",
    "# └── depdetect/\n",
    "#     ├── __init__.py\n",
    "#     ├── spark_session.py\n",
    "#     ├── data_loader.py\n",
    "#     ├── base_detector.py\n",
    "#     ├── mutual_info_detector.py\n",
    "#     ├── visualizer.py\n",
    "#     └── utils.py\n",
    "# scripts/\n",
    "# └── run_pipeline.py\n",
    "#\n",
    "# Nothing needed yet\n",
    "# --- depdetect/spark_session.py ---"
   ]
  },
  {
   "cell_type": "code",
   "execution_count": 26,
   "id": "21df1beb",
   "metadata": {},
   "outputs": [
    {
     "ename": "AttributeError",
     "evalue": "module 'dependency_detector' has no attribute 'sparkSession'",
     "output_type": "error",
     "traceback": [
      "\u001b[0;31m---------------------------------------------------------------------------\u001b[0m",
      "\u001b[0;31mAttributeError\u001b[0m                            Traceback (most recent call last)",
      "Cell \u001b[0;32mIn[26], line 8\u001b[0m\n\u001b[1;32m      5\u001b[0m logging\u001b[38;5;241m.\u001b[39mbasicConfig(level\u001b[38;5;241m=\u001b[39mlogging\u001b[38;5;241m.\u001b[39mINFO, \u001b[38;5;28mformat\u001b[39m\u001b[38;5;241m=\u001b[39m\u001b[38;5;124m\"\u001b[39m\u001b[38;5;132;01m%(levelname)s\u001b[39;00m\u001b[38;5;124m \u001b[39m\u001b[38;5;132;01m%(name)s\u001b[39;00m\u001b[38;5;124m: \u001b[39m\u001b[38;5;132;01m%(message)s\u001b[39;00m\u001b[38;5;124m\"\u001b[39m)\n\u001b[1;32m      7\u001b[0m \u001b[38;5;66;03m# 1. Spark session\u001b[39;00m\n\u001b[0;32m----> 8\u001b[0m spark \u001b[38;5;241m=\u001b[39m \u001b[43mdependency_detector\u001b[49m\u001b[38;5;241;43m.\u001b[39;49m\u001b[43msparkSession\u001b[49m\u001b[38;5;241m.\u001b[39mgetSparkSession(app_name\u001b[38;5;241m=\u001b[39m\u001b[38;5;124m\"\u001b[39m\u001b[38;5;124mSmokeTest\u001b[39m\u001b[38;5;124m\"\u001b[39m, memory\u001b[38;5;241m=\u001b[39m\u001b[38;5;124m\"\u001b[39m\u001b[38;5;124m2g\u001b[39m\u001b[38;5;124m\"\u001b[39m)\n\u001b[1;32m     10\u001b[0m \u001b[38;5;66;03m# 2. Make a tiny DataFrame in Spark (no file needed)\u001b[39;00m\n\u001b[1;32m     11\u001b[0m tiny \u001b[38;5;241m=\u001b[39m spark\u001b[38;5;241m.\u001b[39mcreateDataFrame([(\u001b[38;5;241m1\u001b[39m, \u001b[38;5;124m\"\u001b[39m\u001b[38;5;124ma\u001b[39m\u001b[38;5;124m\"\u001b[39m), (\u001b[38;5;241m2\u001b[39m, \u001b[38;5;124m\"\u001b[39m\u001b[38;5;124mb\u001b[39m\u001b[38;5;124m\"\u001b[39m)], [\u001b[38;5;124m\"\u001b[39m\u001b[38;5;124mid\u001b[39m\u001b[38;5;124m\"\u001b[39m, \u001b[38;5;124m\"\u001b[39m\u001b[38;5;124mletter\u001b[39m\u001b[38;5;124m\"\u001b[39m])\n",
      "File \u001b[0;32m~/Documents/Durham /Research Project/dataScienceProject/DependencyDetector/dependency_detector/__init__.py:33\u001b[0m, in \u001b[0;36m__getattr__\u001b[0;34m(name)\u001b[0m\n\u001b[1;32m     30\u001b[0m     \u001b[38;5;28;01mreturn\u001b[39;00m importlib\u001b[38;5;241m.\u001b[39mimport_module(\u001b[38;5;124m\"\u001b[39m\u001b[38;5;124m.dataReader\u001b[39m\u001b[38;5;124m\"\u001b[39m, \u001b[38;5;18m__name__\u001b[39m)\u001b[38;5;241m.\u001b[39mreadData\n\u001b[1;32m     31\u001b[0m \u001b[38;5;66;03m# if name == \"MutualInformationDetector\":\u001b[39;00m\n\u001b[1;32m     32\u001b[0m \u001b[38;5;66;03m#     return importlib.import_module(\".mutual_info_detector\", __name__).MutualInformationDetector\u001b[39;00m\n\u001b[0;32m---> 33\u001b[0m \u001b[38;5;28;01mraise\u001b[39;00m \u001b[38;5;167;01mAttributeError\u001b[39;00m(\u001b[38;5;124mf\u001b[39m\u001b[38;5;124m\"\u001b[39m\u001b[38;5;124mmodule \u001b[39m\u001b[38;5;132;01m{\u001b[39;00m\u001b[38;5;18m__name__\u001b[39m\u001b[38;5;132;01m!r}\u001b[39;00m\u001b[38;5;124m has no attribute \u001b[39m\u001b[38;5;132;01m{\u001b[39;00mname\u001b[38;5;132;01m!r}\u001b[39;00m\u001b[38;5;124m\"\u001b[39m)\n",
      "\u001b[0;31mAttributeError\u001b[0m: module 'dependency_detector' has no attribute 'sparkSession'"
     ]
    }
   ],
   "source": [
    "import logging\n",
    "import dependency_detector\n",
    "\n",
    "\n",
    "logging.basicConfig(level=logging.INFO, format=\"%(levelname)s %(name)s: %(message)s\")\n",
    "\n",
    "# 1. Spark session\n",
    "spark = dependency_detector.sparkSession.getSparkSession(app_name=\"SmokeTest\", memory=\"2g\")\n",
    "\n",
    "# 2. Make a tiny DataFrame in Spark (no file needed)\n",
    "tiny = spark.createDataFrame([(1, \"a\"), (2, \"b\")], [\"id\", \"letter\"])\n",
    "tiny.show()\n",
    "\n",
    "# 3. Save then read back via readData.load_data\n",
    "tmp_path = \"/tmp/tiny.parquet\"\n",
    "tiny.write.mode(\"overwrite\").parquet(tmp_path)\n",
    "\n",
    "df_back = dependency_detector.readData(spark, \"data/synthetic_data.parquet\", \"parquet\")\n",
    "print(\"Rows:\", df_back.count(), \"Cols:\", len(df_back.columns))\n",
    "df_back.show()\n",
    "\n",
    "spark.stop()\n"
   ]
  },
  {
   "cell_type": "code",
   "execution_count": 24,
   "id": "14877f66",
   "metadata": {},
   "outputs": [
    {
     "name": "stdout",
     "output_type": "stream",
     "text": [
      "Obtaining file:///Users/Aaqib/Documents/Durham%20/Research%20Project/dataScienceProject/DependencyDetector/dependency_detector\n",
      "  Preparing metadata (setup.py) ... \u001b[?25ldone\n",
      "\u001b[?25hInstalling collected packages: dependency_detector\n",
      "\u001b[33m  DEPRECATION: Legacy editable install of dependency_detector==0.0.1 from file:///Users/Aaqib/Documents/Durham%20/Research%20Project/dataScienceProject/DependencyDetector/dependency_detector (setup.py develop) is deprecated. pip 25.3 will enforce this behaviour change. A possible replacement is to add a pyproject.toml or enable --use-pep517, and use setuptools >= 64. If the resulting installation is not behaving as expected, try using --config-settings editable_mode=compat. Please consult the setuptools documentation for more information. Discussion can be found at https://github.com/pypa/pip/issues/11457\u001b[0m\u001b[33m\n",
      "\u001b[0m  Running setup.py develop for dependency_detector\n",
      "Successfully installed dependency_detector-0.0.1\n"
     ]
    }
   ],
   "source": [
    "!pip install -e dependency_detector/"
   ]
  },
  {
   "cell_type": "code",
   "execution_count": null,
   "id": "0e954553",
   "metadata": {},
   "outputs": [],
   "source": []
  }
 ],
 "metadata": {
  "kernelspec": {
   "display_name": "Python 3",
   "language": "python",
   "name": "python3"
  },
  "language_info": {
   "codemirror_mode": {
    "name": "ipython",
    "version": 3
   },
   "file_extension": ".py",
   "mimetype": "text/x-python",
   "name": "python",
   "nbconvert_exporter": "python",
   "pygments_lexer": "ipython3",
   "version": "3.11.9"
  }
 },
 "nbformat": 4,
 "nbformat_minor": 5
}
