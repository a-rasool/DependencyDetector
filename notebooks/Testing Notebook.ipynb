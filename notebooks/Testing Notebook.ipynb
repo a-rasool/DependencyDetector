{
 "cells": [
  {
   "cell_type": "code",
   "execution_count": null,
   "id": "670cb98c",
   "metadata": {},
   "outputs": [],
   "source": [
    "# Directory structure being created in a flat representation:#\n",
    "# \n",
    "# depdetect/\n",
    "# └── depdetect/\n",
    "#     ├── __init__.py\n",
    "#     ├── spark_session.py\n",
    "#     ├── data_loader.py\n",
    "#     ├── base_detector.py\n",
    "#     ├── mutual_info_detector.py\n",
    "#     ├── visualizer.py\n",
    "#     └── utils.py\n",
    "# scripts/\n",
    "# └── run_pipeline.py\n",
    "#\n",
    "# Nothing needed yet\n",
    "# --- depdetect/spark_session.py ---"
   ]
  },
  {
   "cell_type": "code",
   "execution_count": null,
   "id": "21df1beb",
   "metadata": {},
   "outputs": [],
   "source": []
  }
 ],
 "metadata": {
  "language_info": {
   "name": "python"
  }
 },
 "nbformat": 4,
 "nbformat_minor": 5
}
